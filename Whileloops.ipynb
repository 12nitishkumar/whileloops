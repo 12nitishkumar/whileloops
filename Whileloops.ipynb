{
 "cells": [
  {
   "cell_type": "code",
   "execution_count": 3,
   "id": "03d31716-431d-4359-90e6-5954683fed9b",
   "metadata": {},
   "outputs": [
    {
     "name": "stdout",
     "output_type": "stream",
     "text": [
      "1\n",
      "2\n",
      "3\n",
      "4\n",
      "5\n",
      "6\n",
      "7\n",
      "8\n",
      "9\n",
      "10\n"
     ]
    }
   ],
   "source": [
    "a = 1\n",
    "\n",
    "while a <= 10 :\n",
    "    print(a)\n",
    "    a = a + 1\n",
    "    "
   ]
  },
  {
   "cell_type": "markdown",
   "id": "2097b133-dc34-4c77-a5d0-4fcae70b3ac0",
   "metadata": {},
   "source": [
    "#sum up the number till some point"
   ]
  },
  {
   "cell_type": "code",
   "execution_count": 12,
   "id": "71873435-4ca6-45ad-9300-b77201512e4b",
   "metadata": {},
   "outputs": [
    {
     "name": "stdin",
     "output_type": "stream",
     "text": [
      "enter your limit 5\n"
     ]
    },
    {
     "data": {
      "text/plain": [
       "15"
      ]
     },
     "execution_count": 12,
     "metadata": {},
     "output_type": "execute_result"
    }
   ],
   "source": [
    "n = int(input(\"enter your limit\"))\n",
    "starting_point = 0\n",
    "counter = 1\n",
    "\n",
    "while counter <= n :\n",
    "    starting_point = starting_point + counter\n",
    "    counter = counter + 1\n",
    "starting_point\n"
   ]
  },
  {
   "cell_type": "code",
   "execution_count": 14,
   "id": "b01938a8-d87c-4cd5-ae77-c9b9aa6184e1",
   "metadata": {},
   "outputs": [
    {
     "name": "stdin",
     "output_type": "stream",
     "text": [
      "enter your number 5\n"
     ]
    },
    {
     "data": {
      "text/plain": [
       "120"
      ]
     },
     "execution_count": 14,
     "metadata": {},
     "output_type": "execute_result"
    }
   ],
   "source": [
    "number = int(input(\"enter your number\"))\n",
    "factorial = 1\n",
    "while number > 0:\n",
    "    factorial = factorial *number\n",
    "    number = number - 1\n",
    "factorial"
   ]
  },
  {
   "cell_type": "code",
   "execution_count": 15,
   "id": "83b700a4-5a6e-4ffe-a6be-0c9503e7fe3f",
   "metadata": {},
   "outputs": [],
   "source": [
    "#Finonacci series "
   ]
  },
  {
   "cell_type": "code",
   "execution_count": 18,
   "id": "fc12739b-4367-4d7a-acb9-2e36c8da3568",
   "metadata": {},
   "outputs": [
    {
     "name": "stdin",
     "output_type": "stream",
     "text": [
      "enter the number of element you are looking for  10\n"
     ]
    },
    {
     "name": "stdout",
     "output_type": "stream",
     "text": [
      "0\n",
      "1\n",
      "1\n",
      "2\n",
      "3\n",
      "5\n",
      "8\n",
      "13\n",
      "21\n",
      "34\n"
     ]
    }
   ],
   "source": [
    "number = int(input(\"enter the number of element you are looking for \"))\n",
    "a ,b = 0,1\n",
    "counter = 0\n",
    "while counter < number :\n",
    "    print(a)\n",
    "    c = a + b\n",
    "    a =b\n",
    "    b = c\n",
    "    counter = counter + 1"
   ]
  },
  {
   "cell_type": "code",
   "execution_count": 19,
   "id": "45e5d9a0-bf69-419d-b276-277f1805b4c8",
   "metadata": {},
   "outputs": [
    {
     "name": "stdout",
     "output_type": "stream",
     "text": [
      "0\n",
      "1\n",
      "1\n",
      "2\n",
      "3\n",
      "5\n",
      "8\n",
      "13\n",
      "21\n",
      "34\n"
     ]
    }
   ],
   "source": [
    "a , b = 0 , 1\n",
    "for i in range (10) :\n",
    "    print(a)\n",
    "    c = a + b\n",
    "    a = b\n",
    "    b = c"
   ]
  },
  {
   "cell_type": "code",
   "execution_count": 23,
   "id": "e9576fd1-2c41-4627-9212-def1c2311fb6",
   "metadata": {},
   "outputs": [],
   "source": [
    "s = \"nitish\""
   ]
  },
  {
   "cell_type": "code",
   "execution_count": 24,
   "id": "88828e3c-ee75-4278-a7c8-1454da946dd7",
   "metadata": {},
   "outputs": [
    {
     "data": {
      "text/plain": [
       "'hsitin'"
      ]
     },
     "execution_count": 24,
     "metadata": {},
     "output_type": "execute_result"
    }
   ],
   "source": [
    "s[::-1]"
   ]
  },
  {
   "cell_type": "code",
   "execution_count": 25,
   "id": "8ca8d879-7a13-49ea-8718-a34e12078318",
   "metadata": {},
   "outputs": [
    {
     "name": "stdin",
     "output_type": "stream",
     "text": [
      "enter your string for revelsal nitish\n"
     ]
    }
   ],
   "source": [
    "word = input(\"enter your string for revelsal\")"
   ]
  },
  {
   "cell_type": "code",
   "execution_count": 27,
   "id": "f69e38dd-dfdd-4540-b074-f47e8dde3981",
   "metadata": {},
   "outputs": [
    {
     "name": "stdout",
     "output_type": "stream",
     "text": [
      "hsitin\n"
     ]
    }
   ],
   "source": [
    "reverse = \"\"\n",
    "length = len(word)\n",
    "while length > 0:\n",
    "    reverse = reverse + word[length - 1]\n",
    "    length = length - 1\n",
    "print(reverse)\n",
    "    "
   ]
  },
  {
   "cell_type": "code",
   "execution_count": 28,
   "id": "4a102084-cce3-47af-98a6-72e1e34b499e",
   "metadata": {},
   "outputs": [],
   "source": [
    "#print table of numbers"
   ]
  },
  {
   "cell_type": "code",
   "execution_count": 32,
   "id": "287c6425-586b-4cde-b42c-4955493ab5db",
   "metadata": {},
   "outputs": [
    {
     "name": "stdin",
     "output_type": "stream",
     "text": [
      "enter your number 12\n"
     ]
    },
    {
     "name": "stdout",
     "output_type": "stream",
     "text": [
      "12 * 1 = 12\n",
      "12 * 2 = 24\n",
      "12 * 3 = 36\n",
      "12 * 4 = 48\n",
      "12 * 5 = 60\n",
      "12 * 6 = 72\n",
      "12 * 7 = 84\n",
      "12 * 8 = 96\n",
      "12 * 9 = 108\n",
      "12 * 10 = 120\n"
     ]
    }
   ],
   "source": [
    "n = int(input(\"enter your number\"))\n",
    "i = 1\n",
    "\n",
    "while i  <= 10:\n",
    "    result = n * i\n",
    "    print(n,\"*\",i ,\"=\",result)\n",
    "    i = i + 1"
   ]
  },
  {
   "cell_type": "code",
   "execution_count": 34,
   "id": "bdf40f8c-861f-403f-bc85-37bae52baf2c",
   "metadata": {},
   "outputs": [
    {
     "ename": "SyntaxError",
     "evalue": "invalid syntax (1121970763.py, line 6)",
     "output_type": "error",
     "traceback": [
      "\u001b[0;36m  Cell \u001b[0;32mIn[34], line 6\u001b[0;36m\u001b[0m\n\u001b[0;31m    else :\u001b[0m\n\u001b[0m    ^\u001b[0m\n\u001b[0;31mSyntaxError\u001b[0m\u001b[0;31m:\u001b[0m invalid syntax\n"
     ]
    }
   ],
   "source": [
    "n = 5\n",
    "i = 1\n",
    "while i < n :\n",
    "    print(i)\n",
    "    i = i + 1\n",
    "    else :\n",
    "        print(\"this will be executed once your while complete it successfully\")"
   ]
  },
  {
   "cell_type": "code",
   "execution_count": null,
   "id": "94f3559d-a335-4e71-ad6e-c5792d7a3543",
   "metadata": {},
   "outputs": [],
   "source": []
  }
 ],
 "metadata": {
  "kernelspec": {
   "display_name": "Python 3 (ipykernel)",
   "language": "python",
   "name": "python3"
  },
  "language_info": {
   "codemirror_mode": {
    "name": "ipython",
    "version": 3
   },
   "file_extension": ".py",
   "mimetype": "text/x-python",
   "name": "python",
   "nbconvert_exporter": "python",
   "pygments_lexer": "ipython3",
   "version": "3.10.8"
  }
 },
 "nbformat": 4,
 "nbformat_minor": 5
}
